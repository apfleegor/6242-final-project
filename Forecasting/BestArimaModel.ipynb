{
 "cells": [
  {
   "cell_type": "markdown",
   "metadata": {},
   "source": [
    "I just archived the code I used to find the best Arima params- this notebook is not useful now"
   ]
  },
  {
   "cell_type": "code",
   "execution_count": null,
   "metadata": {},
   "outputs": [],
   "source": []
  },
  {
   "cell_type": "markdown",
   "metadata": {},
   "source": [
    "Drop test columns which have nans : merge on teh right then resplit"
   ]
  },
  {
   "cell_type": "code",
   "execution_count": null,
   "metadata": {},
   "outputs": [],
   "source": [
    "df_spring = df_spring.merge(df_spring_test, left_index=True, right_index=True)\n",
    "df_summer = df_summer.merge(df_spring_test, left_index=True, right_index=True)\n",
    "df_fall = df_fall.merge(df_spring_test, left_index=True, right_index=True)"
   ]
  },
  {
   "cell_type": "code",
   "execution_count": null,
   "metadata": {},
   "outputs": [],
   "source": [
    "df_spring = df_spring.dropna(how=\"any\")\n",
    "df_summer = df_summer.dropna(how=\"any\")\n",
    "df_fall = df_fall.dropna(how=\"any\")"
   ]
  },
  {
   "cell_type": "markdown",
   "metadata": {},
   "source": [
    "Redo the split"
   ]
  },
  {
   "cell_type": "code",
   "execution_count": null,
   "metadata": {},
   "outputs": [],
   "source": [
    "df_spring_test = df_spring.iloc[:,-1]\n",
    "df_summer_test = df_summer.iloc[:,-1]\n",
    "df_fall_test = df_fall.iloc[:,-1]\n",
    "\n",
    "df_spring = df_spring.iloc[:,:-1]\n",
    "df_summer = df_summer.iloc[:,:-1]\n",
    "df_fall = df_fall.iloc[:,:-1]"
   ]
  },
  {
   "cell_type": "markdown",
   "metadata": {},
   "source": [
    "Now let's train the modell"
   ]
  },
  {
   "cell_type": "code",
   "execution_count": null,
   "metadata": {},
   "outputs": [
    {
     "name": "stdout",
     "output_type": "stream",
     "text": [
      "9 9 8\n"
     ]
    }
   ],
   "source": [
    "print( len(df_spring.columns), len(df_summer.columns),len(df_fall.columns))"
   ]
  },
  {
   "cell_type": "markdown",
   "metadata": {},
   "source": [
    "## Model Training"
   ]
  },
  {
   "cell_type": "code",
   "execution_count": null,
   "metadata": {},
   "outputs": [
    {
     "data": {
      "text/plain": [
       "array([3.136, 3.21 , 3.086, ..., 4.   , 4.   , 4.   ])"
      ]
     },
     "metadata": {},
     "output_type": "display_data"
    }
   ],
   "source": [
    "df_spring.values.flatten()"
   ]
  },
  {
   "cell_type": "markdown",
   "metadata": {},
   "source": [
    "Rename indices to be in order"
   ]
  },
  {
   "cell_type": "code",
   "execution_count": null,
   "metadata": {},
   "outputs": [],
   "source": [
    "df_spring_train = df_spring.copy()\n",
    "df_summer_train = df_summer.copy()\n",
    "df_fall_train = df_fall.copy()\n",
    "\n",
    "df_spring_train.columns = [1,2,3,4,5,6,7,8,9]\n",
    "df_summer_train.columns = [1,2,3,4,5,6,7,8,9]\n",
    "df_fall_train.columns = [1,2,3,4,5,6,7,8]\n",
    "\n",
    "df_spring_validation = df_spring_test.copy()\n",
    "df_summer_validation = df_summer_test.copy()\n",
    "df_fall_validation = df_fall_test.copy()\n",
    "\n",
    "df_spring_validation.columns = [10]\n",
    "df_summer_validation.columns = [10]\n",
    "df_fall_validation.columns = [9]\n"
   ]
  },
  {
   "cell_type": "markdown",
   "metadata": {},
   "source": [
    "Get list of courses and put everyting into list"
   ]
  },
  {
   "cell_type": "code",
   "execution_count": null,
   "metadata": {},
   "outputs": [],
   "source": [
    "spring_courses = df_spring_train.index.to_list()\n",
    "summer_courses = df_summer_train.index.to_list()\n",
    "fall_courses = df_fall_train.index.to_list()\n",
    "\n",
    "dfs = [df_spring_train, df_summer_train, df_fall_train]\n",
    "tests = [df_spring_validation, df_summer_validation, df_fall_validation]\n",
    "courses = [spring_courses, summer_courses, fall_courses]\n",
    "prediction_indices = [10,10,9]"
   ]
  },
  {
   "cell_type": "markdown",
   "metadata": {},
   "source": [
    "Get it working for a single course"
   ]
  },
  {
   "cell_type": "code",
   "execution_count": null,
   "metadata": {},
   "outputs": [
    {
     "name": "stdout",
     "output_type": "stream",
     "text": [
      "train predictions [3.136      3.13599986 3.17859671 3.1302802  3.15109469 3.23476549\n",
      " 3.19110574 3.33631802 3.16437921]  \n",
      " test predictions [3.17323667]\n",
      "Train original values [3.136, 3.21, 3.086, 3.136, 3.498, 3.2019999999999995, 3.6480000000000006, 3.036, 2.8325] \n",
      " Test original values 3.2275\n",
      "MSE train data:  0.06050964997371952\n",
      "MSE test data:  0.002944509147711605\n"
     ]
    }
   ],
   "source": [
    "semester = 0 # 0 = spring, 1 = summer, 2 = fall\n",
    "\n",
    "df = dfs[semester]\n",
    "test = tests[semester]\n",
    "course_list = courses[semester]\n",
    "prediction_index = prediction_indices[semester]\n",
    "\n",
    "\n",
    "# specify parameters\n",
    "p,d,q = 1,1,2\n",
    "\n",
    "# one for now\n",
    "course_name = course_list[0]\n",
    "# get all grades for this course and put into a dataframe\n",
    "train_row = df.loc[course_name].tolist()\n",
    "\n",
    "# ARIMA\n",
    "model = ARIMA(train_row, order=(1,1,2)).fit()\n",
    "\n",
    "# get predictions for all periods\n",
    "pred1 = model.predict()\n",
    "\n",
    "# since ARIMA starts at 1 pred1[0] is not calculated, use real grades as the starting point (for graph)\n",
    "pred1[0] = train_row[0]\n",
    "\n",
    "# next period's prediction\n",
    "prediction = model.predict(prediction_index)\n",
    "\n",
    "print(\"train predictions\", pred1, \" \\n test predictions\", prediction)\n",
    "\n",
    "print(\"Train original values\", train_row, \"\\n Test original values\", test.loc[course_name].tolist())\n",
    "\n",
    "\n",
    "print(\"MSE train data: \", mean_squared_error(train_row, pred1))\n",
    "print(\"MSE test data: \", mean_squared_error([test.loc[course_name]], prediction))"
   ]
  },
  {
   "cell_type": "markdown",
   "metadata": {},
   "source": [
    "# Training Loop to find best overall params"
   ]
  },
  {
   "cell_type": "code",
   "execution_count": null,
   "metadata": {},
   "outputs": [],
   "source": [
    "best_params_per_semester = {}\n",
    "min_mse_per_semester = {}\n",
    "\n",
    "# Loop through each semester\n",
    "optimize = False\n",
    "if optimize == True:\n",
    "    for semester in range(2,3):\n",
    "        df = dfs[semester]\n",
    "        test = tests[semester]\n",
    "        course_list = courses[semester]\n",
    "        prediction_index = prediction_indices[semester]\n",
    "\n",
    "        best_params = None\n",
    "        min_combined_mse = np.inf\n",
    "\n",
    "        print(\"Now at semester \", semester)\n",
    "\n",
    "        # Iterate over different ARIMA orders\n",
    "        for p in range(1, 3):\n",
    "            for d in range(1, 3):\n",
    "                for q in range(1, 3):\n",
    "                    total_train_mse = 0\n",
    "                    total_test_mse = 0\n",
    "                    valid_courses = 0\n",
    "\n",
    "                    # Iterate over each course\n",
    "                    for course_name in course_list:\n",
    "                        try:\n",
    "                            # Extract the training and testing series for this course\n",
    "                            train_row = df.loc[course_name].tolist()\n",
    "                            \n",
    "                            # Fit the ARIMA model to this course's training data\n",
    "                            model = ARIMA(train_row, order=(p, d, q)).fit()\n",
    "\n",
    "                            # Predict \n",
    "                            train_pred = model.predict()\n",
    "                            train_pred[0] = train_row[0] # fill in first value\n",
    "                            \n",
    "\n",
    "                            # Predict next step\n",
    "                            prediction = model.predict(prediction_index) # no need for start end\n",
    "\n",
    "                            # Compute MSEs\n",
    "                            test_mse = mean_squared_error([test.loc[course_name]], prediction)\n",
    "                            train_mse = mean_squared_error(train_row, train_pred)\n",
    "\n",
    "                            # add errors\n",
    "                            total_train_mse += train_mse\n",
    "                            total_test_mse += test_mse\n",
    "                            valid_courses += 1\n",
    "\n",
    "                        except:\n",
    "                            continue  # Skip if the model fails to fit\n",
    "\n",
    "                    # Calculate combined MSE and update the best parameters if necessary\n",
    "                    if valid_courses > 0:\n",
    "                        combined_mse = total_train_mse + total_test_mse\n",
    "                        if combined_mse < min_combined_mse:\n",
    "                            min_combined_mse = combined_mse\n",
    "                            best_params = (p, d, q)\n",
    "\n",
    "        # Store the best parameters and combined MSE for this semester\n",
    "        best_params_per_semester[semester] = best_params\n",
    "        min_mse_per_semester[semester] = min_combined_mse\n",
    "\n",
    "    # best_params_per_semester now holds the optimal (p, d, q) for each semester\n"
   ]
  },
  {
   "cell_type": "code",
   "execution_count": null,
   "metadata": {},
   "outputs": [
    {
     "data": {
      "text/plain": [
       "{}"
      ]
     },
     "metadata": {},
     "output_type": "display_data"
    }
   ],
   "source": [
    "best_params_per_semester"
   ]
  }
 ],
 "metadata": {
  "language_info": {
   "name": "python"
  }
 },
 "nbformat": 4,
 "nbformat_minor": 2
}
